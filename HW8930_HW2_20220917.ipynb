{
 "cells": [
  {
   "cell_type": "code",
   "execution_count": 3,
   "metadata": {},
   "outputs": [],
   "source": [
    "import numpy as np\n",
    "import pandas as pd"
   ]
  },
  {
   "cell_type": "code",
   "execution_count": 4,
   "metadata": {},
   "outputs": [
    {
     "name": "stdout",
     "output_type": "stream",
     "text": [
      "2002,2009,2016,2023,2037,2044,2051,2058,2072,2079,2086,2093,2107,2114,2121,2128,2142,2149,2156,2163,2177,2184,2191,2198,2212,2219,2226,2233,2247,2254,2261,2268,2282,2289,2296,2303,2317,2324,2331,2338,2352,2359,2366,2373,2387,2394,2401,2408,2422,2429,2436,2443,2457,2464,2471,2478,2492,2499,2506,2513,2527,2534,2541,2548,2562,2569,2576,2583,2597,2604,2611,2618,2632,2639,2646,2653,2667,2674,2681,2688,2702,2709,2716,2723,2737,2744,2751,2758,2772,2779,2786,2793,2807,2814,2821,2828,2842,2849,2856,2863,2877,2884,2891,2898,2912,2919,2926,2933,2947,2954,2961,2968,2982,2989,2996,3003,3017,3024,3031,3038,3052,3059,3066,3073,3087,3094,3101,3108,3122,3129,3136,3143,3157,3164,3171,3178,3192,3199\n"
     ]
    }
   ],
   "source": [
    "##question1\n",
    "#Input list should  \n",
    "def question1(): \n",
    "    list_intger = range(2000,3201)\n",
    "    c = list(filter(lambda x: (x % 7 == 0 and x% 5 != 0),list_intger))\n",
    "    c = [str(x) for x in c]\n",
    "    #print(c)\n",
    "    #c = [str(x) for x in list_intger if x % 7 == 0 and x % 5 != 0]\n",
    "    print (','.join(c))\n",
    "question1()"
   ]
  },
  {
   "cell_type": "code",
   "execution_count": 5,
   "metadata": {},
   "outputs": [
    {
     "name": "stdout",
     "output_type": "stream",
     "text": [
      "8\n",
      "40320\n"
     ]
    }
   ],
   "source": [
    "#question2\n",
    "def question2(n):\n",
    "    if n == 1:\n",
    "        return 1\n",
    "    else:\n",
    "        return n*question2(n-1)\n",
    "A = question2(int(input()))\n",
    "print(A)"
   ]
  },
  {
   "cell_type": "code",
   "execution_count": 6,
   "metadata": {},
   "outputs": [
    {
     "name": "stdout",
     "output_type": "stream",
     "text": [
      "dict_values([1, 4, 9, 16, 25, 36, 49, 64])\n"
     ]
    }
   ],
   "source": [
    "#question3\n",
    "def question3():\n",
    "    n = 8\n",
    "    key = [*range(1,n+1,1)]\n",
    "    #print(key)\n",
    "    value = list(map(lambda a,b:a*b, key,key))\n",
    "    print(dict(zip(key,value)).values())\n",
    "question3()"
   ]
  },
  {
   "cell_type": "code",
   "execution_count": 7,
   "metadata": {},
   "outputs": [
    {
     "name": "stdout",
     "output_type": "stream",
     "text": [
      "34,65,87,12\n",
      "['34', '65', '87', '12']\n",
      "('34', '65', '87', '12')\n"
     ]
    }
   ],
   "source": [
    "#question4\n",
    "def question4():\n",
    "    data_list = input().split(',')\n",
    "    data_tuple = tuple(data_list)\n",
    "    print(data_list)\n",
    "    print(data_tuple)\n",
    "question4() "
   ]
  },
  {
   "cell_type": "code",
   "execution_count": 8,
   "metadata": {},
   "outputs": [
    {
     "name": "stdout",
     "output_type": "stream",
     "text": [
      "31as\n",
      "31AS\n"
     ]
    }
   ],
   "source": [
    "##question5\n",
    "class question5():\n",
    "    def __init__(self):\n",
    "        #self.from_console = from_console\n",
    "        self.string = ''\n",
    "    def get_string(self):\n",
    "        self.string = input()\n",
    "    def upper_case(self):\n",
    "        print(self.string.upper())\n",
    "string = question5()\n",
    "string.get_string()\n",
    "string.upper_case()"
   ]
  },
  {
   "cell_type": "code",
   "execution_count": 9,
   "metadata": {},
   "outputs": [
    {
     "name": "stdout",
     "output_type": "stream",
     "text": [
      "12\n",
      "6\n"
     ]
    }
   ],
   "source": [
    "##question6\n",
    "def question6():\n",
    "    C = 50\n",
    "    H = 30\n",
    "    D = np.array(list(map(int,input().split(','))))\n",
    "    Q = np.sqrt((2*C*D)/H)\n",
    "    #A = str(list(np.round(Q).astype(int)))\n",
    "    A = np.round(Q).astype(int)\n",
    "    A_str = ','.join(str(x) for x in A )\n",
    "    print(A_str)\n",
    "question6()"
   ]
  },
  {
   "cell_type": "code",
   "execution_count": 12,
   "metadata": {},
   "outputs": [
    {
     "name": "stdout",
     "output_type": "stream",
     "text": [
      "3,5\n",
      "[[0, 0, 0, 0, 0], [0, 1, 2, 3, 4], [0, 2, 4, 6, 8]]\n"
     ]
    }
   ],
   "source": [
    "##question7\n",
    "def question7():\n",
    "    #data = [int(x) for x in input().split(',')]\n",
    "    #x = data[0]\n",
    "    #y = data[1]\n",
    "    #array = [[(i*j) for j in range(y)] for i in range(x)]\n",
    "    #print(array)\n",
    "    ##Faster\n",
    "    data = [int(x) for x in input().split(',')]\n",
    "    x = data[0]\n",
    "    y = data[1]\n",
    "    A = np.array([*range(x)])\n",
    "    B = np.array([*range(y)])\n",
    "    array = np.outer(A,B).tolist()\n",
    "    print(array)\n",
    "question7()"
   ]
  },
  {
   "cell_type": "code",
   "execution_count": 14,
   "metadata": {},
   "outputs": [
    {
     "name": "stdout",
     "output_type": "stream",
     "text": [
      "cc,abc\n",
      "abc,cc\n"
     ]
    }
   ],
   "source": [
    "##question8\n",
    "def question8():\n",
    "    data = input().split(',')\n",
    "    data.sort()\n",
    "    print(','.join(data))\n",
    "question8()"
   ]
  },
  {
   "cell_type": "code",
   "execution_count": 22,
   "metadata": {},
   "outputs": [
    {
     "name": "stdout",
     "output_type": "stream",
     "text": [
      "Hello world Practice makes perfect\n",
      "HELLO WORLD PRACTICE MAKES PERFECT\n"
     ]
    }
   ],
   "source": [
    "##question9\n",
    "def question9():\n",
    "    cc = input().split(' ')\n",
    "    #res = [*set(cc)].tostr\n",
    "    res = ' '.join(cc)\n",
    "    print(res.upper())\n",
    "question9()"
   ]
  },
  {
   "cell_type": "code",
   "execution_count": 24,
   "metadata": {},
   "outputs": [
    {
     "name": "stdout",
     "output_type": "stream",
     "text": [
      "hello world and practice makes perfect and hello world again\n",
      "again and hello makes perfect practice world\n"
     ]
    }
   ],
   "source": [
    "##question10\n",
    "def question10():\n",
    "    cc = input().split(' ')\n",
    "    ans = sorted([*set(cc)])\n",
    "    #print(ans)\n",
    "    print(' '.join(ans))\n",
    "question10()"
   ]
  },
  {
   "cell_type": "code",
   "execution_count": 25,
   "metadata": {},
   "outputs": [
    {
     "name": "stdout",
     "output_type": "stream",
     "text": [
      "department name is AuE\n",
      "department name is CSC\n"
     ]
    }
   ],
   "source": [
    "##question25\n",
    "class question25:\n",
    "    department = 'department'\n",
    "    def __init__(self,department):\n",
    "        self.department = department\n",
    "AuE = question25(\"AuE\")\n",
    "print(\"%s name is %s\" % (question25.department, AuE.department))\n",
    "\n",
    "department = question25(None)\n",
    "department.department = \"CSC\"\n",
    "print(\"%s name is %s\" % (question25.department, department.department))"
   ]
  },
  {
   "cell_type": "code",
   "execution_count": 26,
   "metadata": {},
   "outputs": [
    {
     "name": "stdout",
     "output_type": "stream",
     "text": [
      "dict_values([1, 4, 9, 16, 25, 36, 49, 64, 81, 100, 121, 144, 169, 196, 225, 256, 289, 324, 361, 400])\n"
     ]
    }
   ],
   "source": [
    "##question35\n",
    "def question35():\n",
    "    key = [*range(1,21,1)]\n",
    "    value = list(map(lambda a,b:a*b, key,key))\n",
    "    print(dict(zip(key,value)).values())\n",
    "question35()"
   ]
  },
  {
   "cell_type": "code",
   "execution_count": 27,
   "metadata": {},
   "outputs": [
    {
     "name": "stdout",
     "output_type": "stream",
     "text": [
      "dict_keys([1, 2, 3, 4, 5, 6, 7, 8, 9, 10, 11, 12, 13, 14, 15, 16, 17, 18, 19, 20])\n"
     ]
    }
   ],
   "source": [
    "##question36\n",
    "def question36():\n",
    "    key = [*range(1,21,1)]\n",
    "    value = list(map(lambda a,b:a*b, key,key))\n",
    "    print(dict(zip(key,value)).keys())\n",
    "question36()"
   ]
  },
  {
   "cell_type": "code",
   "execution_count": 28,
   "metadata": {},
   "outputs": [
    {
     "name": "stdout",
     "output_type": "stream",
     "text": [
      "[1, 4, 9, 16, 25, 36, 49, 64, 81, 100, 121, 144, 169, 196, 225, 256, 289, 324, 361, 400]\n"
     ]
    }
   ],
   "source": [
    "##question37\n",
    "def question37():\n",
    "    key = [*range(1,21,1)]\n",
    "    value = list(map(lambda a,b:a*b, key,key))\n",
    "    print(value)\n",
    "question37()"
   ]
  },
  {
   "cell_type": "code",
   "execution_count": 29,
   "metadata": {},
   "outputs": [
    {
     "name": "stdout",
     "output_type": "stream",
     "text": [
      "(2, 4, 6, 8, 10)\n"
     ]
    }
   ],
   "source": [
    "##question43\n",
    "def question43():\n",
    "    tp=(1,2,3,4,5,6,7,8,9,10)\n",
    "    c = tuple(filter(lambda x: x % 2 == 0,tp))\n",
    "    print(c)\n",
    "question43()"
   ]
  },
  {
   "cell_type": "code",
   "execution_count": 32,
   "metadata": {},
   "outputs": [
    {
     "name": "stdout",
     "output_type": "stream",
     "text": [
      "<__main__.American object at 0x0000019D9BFC45C8>\n",
      "<__main__.NewYorker object at 0x0000019D9BFC4508>\n"
     ]
    }
   ],
   "source": [
    "##question 51\n",
    "class American():\n",
    "    pass\n",
    "class NewYorker(American):\n",
    "    pass\n",
    "anAmerican = American()\n",
    "aNewYorker = NewYorker()\n",
    "print(anAmerican)\n",
    "print(aNewYorker)"
   ]
  },
  {
   "cell_type": "code",
   "execution_count": 33,
   "metadata": {},
   "outputs": [
    {
     "name": "stdout",
     "output_type": "stream",
     "text": [
      "50\n"
     ]
    }
   ],
   "source": [
    "##Question53\n",
    "class Rectangle():\n",
    "    def __init__(self,length,width):\n",
    "        self.length = length\n",
    "        self.width = width\n",
    "    def com_area(self):\n",
    "        area = self.length*self.width\n",
    "        return area\n",
    "\n",
    "rect = Rectangle(5,10)\n",
    "area = rect.com_area()\n",
    "print(area)"
   ]
  },
  {
   "cell_type": "code",
   "execution_count": 34,
   "metadata": {},
   "outputs": [
    {
     "name": "stdout",
     "output_type": "stream",
     "text": [
      "25\n"
     ]
    }
   ],
   "source": [
    "##Question54\n",
    "class Shape():\n",
    "    def __init__(self):\n",
    "        pass\n",
    "    \n",
    "    def area(self):\n",
    "        return 0\n",
    "class Square():\n",
    "    def __init__(self,length):\n",
    "        Shape.__init__(self)\n",
    "        self.length = length\n",
    "    \n",
    "    def area(self):\n",
    "        area = self.length*self.length\n",
    "        return area\n",
    "\n",
    "Square_def = Square(5)\n",
    "area = Square_def.area()\n",
    "print(area)"
   ]
  },
  {
   "cell_type": "code",
   "execution_count": 35,
   "metadata": {},
   "outputs": [
    {
     "name": "stdout",
     "output_type": "stream",
     "text": [
      "denominator is 0\n"
     ]
    }
   ],
   "source": [
    "#Question56\n",
    "def question56():\n",
    "    return 5/0\n",
    "\n",
    "try : \n",
    "    question56()\n",
    "except ZeroDivisionError:\n",
    "    print('denominator is 0')\n",
    "except Exception as err:\n",
    "        print('A general exception occurred.')\n",
    "        print(err)"
   ]
  },
  {
   "cell_type": "code",
   "execution_count": 36,
   "metadata": {},
   "outputs": [
    {
     "name": "stdout",
     "output_type": "stream",
     "text": [
      "[12, 24, 35, 88, 120, 155]\n"
     ]
    }
   ],
   "source": [
    "#question94\n",
    "def question94():\n",
    "    data = [12,24,35,24,88,120,155,88,120,155]\n",
    "    res = sorted(set(data),key = data.index)\n",
    "    print(res)\n",
    "question94()"
   ]
  }
 ],
 "metadata": {
  "kernelspec": {
   "display_name": "Python 3",
   "language": "python",
   "name": "python3"
  },
  "language_info": {
   "codemirror_mode": {
    "name": "ipython",
    "version": 3
   },
   "file_extension": ".py",
   "mimetype": "text/x-python",
   "name": "python",
   "nbconvert_exporter": "python",
   "pygments_lexer": "ipython3",
   "version": "3.7.4"
  }
 },
 "nbformat": 4,
 "nbformat_minor": 2
}
